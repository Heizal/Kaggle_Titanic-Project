{
 "cells": [
  {
   "cell_type": "code",
   "execution_count": 1,
   "id": "243164f7",
   "metadata": {
    "_cell_guid": "b1076dfc-b9ad-4769-8c92-a6c4dae69d19",
    "_uuid": "8f2839f25d086af736a60e9eeb907d3b93b6e0e5",
    "execution": {
     "iopub.execute_input": "2022-05-11T10:33:14.012294Z",
     "iopub.status.busy": "2022-05-11T10:33:14.011874Z",
     "iopub.status.idle": "2022-05-11T10:33:15.149495Z",
     "shell.execute_reply": "2022-05-11T10:33:15.148457Z"
    },
    "papermill": {
     "duration": 1.163555,
     "end_time": "2022-05-11T10:33:15.153015",
     "exception": false,
     "start_time": "2022-05-11T10:33:13.989460",
     "status": "completed"
    },
    "tags": []
   },
   "outputs": [
    {
     "name": "stdout",
     "output_type": "stream",
     "text": [
      "/kaggle/input/titanic/train.csv\n",
      "/kaggle/input/titanic/test.csv\n",
      "/kaggle/input/titanic/gender_submission.csv\n"
     ]
    }
   ],
   "source": [
    "# This Python 3 environment comes with many helpful analytics libraries installed\n",
    "# It is defined by the kaggle/python Docker image: https://github.com/kaggle/docker-python\n",
    "# For example, here's several helpful packages to load\n",
    "\n",
    "import numpy as np # linear algebra\n",
    "import pandas as pd # data processing, CSV file I/O (e.g. pd.read_csv)\n",
    "from sklearn.model_selection import train_test_split\n",
    "%matplotlib inline \n",
    "import matplotlib.pyplot as plt\n",
    "\n",
    "# Input data files are available in the read-only \"../input/\" directory\n",
    "# For example, running this (by clicking run or pressing Shift+Enter) will list all files under the input directory\n",
    "\n",
    "import os\n",
    "for dirname, _, filenames in os.walk('/kaggle/input'):\n",
    "    for filename in filenames:\n",
    "        print(os.path.join(dirname, filename))\n",
    "\n",
    "# You can write up to 20GB to the current directory (/kaggle/working/) that gets preserved as output when you create a version using \"Save & Run All\" \n",
    "# You can also write temporary files to /kaggle/temp/, but they won't be saved outside of the current session"
   ]
  },
  {
   "cell_type": "code",
   "execution_count": 2,
   "id": "df96a270",
   "metadata": {
    "execution": {
     "iopub.execute_input": "2022-05-11T10:33:15.192576Z",
     "iopub.status.busy": "2022-05-11T10:33:15.191991Z",
     "iopub.status.idle": "2022-05-11T10:33:15.230390Z",
     "shell.execute_reply": "2022-05-11T10:33:15.229780Z"
    },
    "papermill": {
     "duration": 0.06102,
     "end_time": "2022-05-11T10:33:15.232821",
     "exception": false,
     "start_time": "2022-05-11T10:33:15.171801",
     "status": "completed"
    },
    "tags": []
   },
   "outputs": [
    {
     "data": {
      "text/html": [
       "<div>\n",
       "<style scoped>\n",
       "    .dataframe tbody tr th:only-of-type {\n",
       "        vertical-align: middle;\n",
       "    }\n",
       "\n",
       "    .dataframe tbody tr th {\n",
       "        vertical-align: top;\n",
       "    }\n",
       "\n",
       "    .dataframe thead th {\n",
       "        text-align: right;\n",
       "    }\n",
       "</style>\n",
       "<table border=\"1\" class=\"dataframe\">\n",
       "  <thead>\n",
       "    <tr style=\"text-align: right;\">\n",
       "      <th></th>\n",
       "      <th>PassengerId</th>\n",
       "      <th>Survived</th>\n",
       "      <th>Pclass</th>\n",
       "      <th>Name</th>\n",
       "      <th>Sex</th>\n",
       "      <th>Age</th>\n",
       "      <th>SibSp</th>\n",
       "      <th>Parch</th>\n",
       "      <th>Ticket</th>\n",
       "      <th>Fare</th>\n",
       "      <th>Cabin</th>\n",
       "      <th>Embarked</th>\n",
       "    </tr>\n",
       "  </thead>\n",
       "  <tbody>\n",
       "    <tr>\n",
       "      <th>0</th>\n",
       "      <td>1</td>\n",
       "      <td>0</td>\n",
       "      <td>3</td>\n",
       "      <td>Braund, Mr. Owen Harris</td>\n",
       "      <td>male</td>\n",
       "      <td>22.0</td>\n",
       "      <td>1</td>\n",
       "      <td>0</td>\n",
       "      <td>A/5 21171</td>\n",
       "      <td>7.2500</td>\n",
       "      <td>NaN</td>\n",
       "      <td>S</td>\n",
       "    </tr>\n",
       "    <tr>\n",
       "      <th>1</th>\n",
       "      <td>2</td>\n",
       "      <td>1</td>\n",
       "      <td>1</td>\n",
       "      <td>Cumings, Mrs. John Bradley (Florence Briggs Th...</td>\n",
       "      <td>female</td>\n",
       "      <td>38.0</td>\n",
       "      <td>1</td>\n",
       "      <td>0</td>\n",
       "      <td>PC 17599</td>\n",
       "      <td>71.2833</td>\n",
       "      <td>C85</td>\n",
       "      <td>C</td>\n",
       "    </tr>\n",
       "    <tr>\n",
       "      <th>2</th>\n",
       "      <td>3</td>\n",
       "      <td>1</td>\n",
       "      <td>3</td>\n",
       "      <td>Heikkinen, Miss. Laina</td>\n",
       "      <td>female</td>\n",
       "      <td>26.0</td>\n",
       "      <td>0</td>\n",
       "      <td>0</td>\n",
       "      <td>STON/O2. 3101282</td>\n",
       "      <td>7.9250</td>\n",
       "      <td>NaN</td>\n",
       "      <td>S</td>\n",
       "    </tr>\n",
       "    <tr>\n",
       "      <th>3</th>\n",
       "      <td>4</td>\n",
       "      <td>1</td>\n",
       "      <td>1</td>\n",
       "      <td>Futrelle, Mrs. Jacques Heath (Lily May Peel)</td>\n",
       "      <td>female</td>\n",
       "      <td>35.0</td>\n",
       "      <td>1</td>\n",
       "      <td>0</td>\n",
       "      <td>113803</td>\n",
       "      <td>53.1000</td>\n",
       "      <td>C123</td>\n",
       "      <td>S</td>\n",
       "    </tr>\n",
       "    <tr>\n",
       "      <th>4</th>\n",
       "      <td>5</td>\n",
       "      <td>0</td>\n",
       "      <td>3</td>\n",
       "      <td>Allen, Mr. William Henry</td>\n",
       "      <td>male</td>\n",
       "      <td>35.0</td>\n",
       "      <td>0</td>\n",
       "      <td>0</td>\n",
       "      <td>373450</td>\n",
       "      <td>8.0500</td>\n",
       "      <td>NaN</td>\n",
       "      <td>S</td>\n",
       "    </tr>\n",
       "  </tbody>\n",
       "</table>\n",
       "</div>"
      ],
      "text/plain": [
       "   PassengerId  Survived  Pclass  \\\n",
       "0            1         0       3   \n",
       "1            2         1       1   \n",
       "2            3         1       3   \n",
       "3            4         1       1   \n",
       "4            5         0       3   \n",
       "\n",
       "                                                Name     Sex   Age  SibSp  \\\n",
       "0                            Braund, Mr. Owen Harris    male  22.0      1   \n",
       "1  Cumings, Mrs. John Bradley (Florence Briggs Th...  female  38.0      1   \n",
       "2                             Heikkinen, Miss. Laina  female  26.0      0   \n",
       "3       Futrelle, Mrs. Jacques Heath (Lily May Peel)  female  35.0      1   \n",
       "4                           Allen, Mr. William Henry    male  35.0      0   \n",
       "\n",
       "   Parch            Ticket     Fare Cabin Embarked  \n",
       "0      0         A/5 21171   7.2500   NaN        S  \n",
       "1      0          PC 17599  71.2833   C85        C  \n",
       "2      0  STON/O2. 3101282   7.9250   NaN        S  \n",
       "3      0            113803  53.1000  C123        S  \n",
       "4      0            373450   8.0500   NaN        S  "
      ]
     },
     "execution_count": 2,
     "metadata": {},
     "output_type": "execute_result"
    }
   ],
   "source": [
    "# bring in train dataset\n",
    "train_data = pd.read_csv(\"/kaggle/input/titanic/train.csv\")\n",
    "train_data.head()"
   ]
  },
  {
   "cell_type": "code",
   "execution_count": 3,
   "id": "ff1478d4",
   "metadata": {
    "execution": {
     "iopub.execute_input": "2022-05-11T10:33:15.273130Z",
     "iopub.status.busy": "2022-05-11T10:33:15.272608Z",
     "iopub.status.idle": "2022-05-11T10:33:15.296746Z",
     "shell.execute_reply": "2022-05-11T10:33:15.296173Z"
    },
    "papermill": {
     "duration": 0.046619,
     "end_time": "2022-05-11T10:33:15.298602",
     "exception": false,
     "start_time": "2022-05-11T10:33:15.251983",
     "status": "completed"
    },
    "tags": []
   },
   "outputs": [
    {
     "data": {
      "text/html": [
       "<div>\n",
       "<style scoped>\n",
       "    .dataframe tbody tr th:only-of-type {\n",
       "        vertical-align: middle;\n",
       "    }\n",
       "\n",
       "    .dataframe tbody tr th {\n",
       "        vertical-align: top;\n",
       "    }\n",
       "\n",
       "    .dataframe thead th {\n",
       "        text-align: right;\n",
       "    }\n",
       "</style>\n",
       "<table border=\"1\" class=\"dataframe\">\n",
       "  <thead>\n",
       "    <tr style=\"text-align: right;\">\n",
       "      <th></th>\n",
       "      <th>PassengerId</th>\n",
       "      <th>Pclass</th>\n",
       "      <th>Name</th>\n",
       "      <th>Sex</th>\n",
       "      <th>Age</th>\n",
       "      <th>SibSp</th>\n",
       "      <th>Parch</th>\n",
       "      <th>Ticket</th>\n",
       "      <th>Fare</th>\n",
       "      <th>Cabin</th>\n",
       "      <th>Embarked</th>\n",
       "    </tr>\n",
       "  </thead>\n",
       "  <tbody>\n",
       "    <tr>\n",
       "      <th>0</th>\n",
       "      <td>892</td>\n",
       "      <td>3</td>\n",
       "      <td>Kelly, Mr. James</td>\n",
       "      <td>male</td>\n",
       "      <td>34.5</td>\n",
       "      <td>0</td>\n",
       "      <td>0</td>\n",
       "      <td>330911</td>\n",
       "      <td>7.8292</td>\n",
       "      <td>NaN</td>\n",
       "      <td>Q</td>\n",
       "    </tr>\n",
       "    <tr>\n",
       "      <th>1</th>\n",
       "      <td>893</td>\n",
       "      <td>3</td>\n",
       "      <td>Wilkes, Mrs. James (Ellen Needs)</td>\n",
       "      <td>female</td>\n",
       "      <td>47.0</td>\n",
       "      <td>1</td>\n",
       "      <td>0</td>\n",
       "      <td>363272</td>\n",
       "      <td>7.0000</td>\n",
       "      <td>NaN</td>\n",
       "      <td>S</td>\n",
       "    </tr>\n",
       "    <tr>\n",
       "      <th>2</th>\n",
       "      <td>894</td>\n",
       "      <td>2</td>\n",
       "      <td>Myles, Mr. Thomas Francis</td>\n",
       "      <td>male</td>\n",
       "      <td>62.0</td>\n",
       "      <td>0</td>\n",
       "      <td>0</td>\n",
       "      <td>240276</td>\n",
       "      <td>9.6875</td>\n",
       "      <td>NaN</td>\n",
       "      <td>Q</td>\n",
       "    </tr>\n",
       "    <tr>\n",
       "      <th>3</th>\n",
       "      <td>895</td>\n",
       "      <td>3</td>\n",
       "      <td>Wirz, Mr. Albert</td>\n",
       "      <td>male</td>\n",
       "      <td>27.0</td>\n",
       "      <td>0</td>\n",
       "      <td>0</td>\n",
       "      <td>315154</td>\n",
       "      <td>8.6625</td>\n",
       "      <td>NaN</td>\n",
       "      <td>S</td>\n",
       "    </tr>\n",
       "    <tr>\n",
       "      <th>4</th>\n",
       "      <td>896</td>\n",
       "      <td>3</td>\n",
       "      <td>Hirvonen, Mrs. Alexander (Helga E Lindqvist)</td>\n",
       "      <td>female</td>\n",
       "      <td>22.0</td>\n",
       "      <td>1</td>\n",
       "      <td>1</td>\n",
       "      <td>3101298</td>\n",
       "      <td>12.2875</td>\n",
       "      <td>NaN</td>\n",
       "      <td>S</td>\n",
       "    </tr>\n",
       "  </tbody>\n",
       "</table>\n",
       "</div>"
      ],
      "text/plain": [
       "   PassengerId  Pclass                                          Name     Sex  \\\n",
       "0          892       3                              Kelly, Mr. James    male   \n",
       "1          893       3              Wilkes, Mrs. James (Ellen Needs)  female   \n",
       "2          894       2                     Myles, Mr. Thomas Francis    male   \n",
       "3          895       3                              Wirz, Mr. Albert    male   \n",
       "4          896       3  Hirvonen, Mrs. Alexander (Helga E Lindqvist)  female   \n",
       "\n",
       "    Age  SibSp  Parch   Ticket     Fare Cabin Embarked  \n",
       "0  34.5      0      0   330911   7.8292   NaN        Q  \n",
       "1  47.0      1      0   363272   7.0000   NaN        S  \n",
       "2  62.0      0      0   240276   9.6875   NaN        Q  \n",
       "3  27.0      0      0   315154   8.6625   NaN        S  \n",
       "4  22.0      1      1  3101298  12.2875   NaN        S  "
      ]
     },
     "execution_count": 3,
     "metadata": {},
     "output_type": "execute_result"
    }
   ],
   "source": [
    "# bring in the test dataset\n",
    "test_data = pd.read_csv(\"/kaggle/input/titanic/test.csv\")\n",
    "test_data.head()"
   ]
  },
  {
   "cell_type": "code",
   "execution_count": 4,
   "id": "a9f550ac",
   "metadata": {
    "execution": {
     "iopub.execute_input": "2022-05-11T10:33:15.340119Z",
     "iopub.status.busy": "2022-05-11T10:33:15.339629Z",
     "iopub.status.idle": "2022-05-11T10:33:15.352523Z",
     "shell.execute_reply": "2022-05-11T10:33:15.351546Z"
    },
    "papermill": {
     "duration": 0.035825,
     "end_time": "2022-05-11T10:33:15.354578",
     "exception": false,
     "start_time": "2022-05-11T10:33:15.318753",
     "status": "completed"
    },
    "tags": []
   },
   "outputs": [
    {
     "name": "stdout",
     "output_type": "stream",
     "text": [
      "% of women who survived: 0.7420382165605095\n"
     ]
    }
   ],
   "source": [
    "# how many women (%) survived in the trainset\n",
    "women = train_data.loc[train_data.Sex == 'female'][\"Survived\"]\n",
    "rate_women = sum(women)/len(women)\n",
    "\n",
    "print(\"% of women who survived:\", rate_women)"
   ]
  },
  {
   "cell_type": "code",
   "execution_count": 5,
   "id": "a229e782",
   "metadata": {
    "execution": {
     "iopub.execute_input": "2022-05-11T10:33:15.396150Z",
     "iopub.status.busy": "2022-05-11T10:33:15.395579Z",
     "iopub.status.idle": "2022-05-11T10:33:15.402946Z",
     "shell.execute_reply": "2022-05-11T10:33:15.401877Z"
    },
    "papermill": {
     "duration": 0.030832,
     "end_time": "2022-05-11T10:33:15.405330",
     "exception": false,
     "start_time": "2022-05-11T10:33:15.374498",
     "status": "completed"
    },
    "tags": []
   },
   "outputs": [
    {
     "name": "stdout",
     "output_type": "stream",
     "text": [
      "% of men who survived: 0.18890814558058924\n"
     ]
    }
   ],
   "source": [
    "# now lets see the % of men that survived according to the trainset\n",
    "men = train_data.loc[train_data.Sex == 'male'][\"Survived\"]\n",
    "rate_men = sum(men)/len(men)\n",
    "\n",
    "print(\"% of men who survived:\", rate_men)"
   ]
  },
  {
   "cell_type": "markdown",
   "id": "15509aa2",
   "metadata": {
    "papermill": {
     "duration": 0.020048,
     "end_time": "2022-05-11T10:33:15.445738",
     "exception": false,
     "start_time": "2022-05-11T10:33:15.425690",
     "status": "completed"
    },
    "tags": []
   },
   "source": [
    "**USING RANDOM FOREST MODEL TO MAKE PREDICTIONS**"
   ]
  },
  {
   "cell_type": "code",
   "execution_count": 6,
   "id": "013cdac1",
   "metadata": {
    "execution": {
     "iopub.execute_input": "2022-05-11T10:33:15.487650Z",
     "iopub.status.busy": "2022-05-11T10:33:15.487354Z",
     "iopub.status.idle": "2022-05-11T10:33:15.942858Z",
     "shell.execute_reply": "2022-05-11T10:33:15.941758Z"
    },
    "papermill": {
     "duration": 0.479161,
     "end_time": "2022-05-11T10:33:15.944992",
     "exception": false,
     "start_time": "2022-05-11T10:33:15.465831",
     "status": "completed"
    },
    "tags": []
   },
   "outputs": [
    {
     "name": "stdout",
     "output_type": "stream",
     "text": [
      "Your submission was successfully saved!\n"
     ]
    }
   ],
   "source": [
    "from sklearn.ensemble import RandomForestClassifier\n",
    "\n",
    "y = train_data[\"Survived\"]\n",
    "\n",
    "features = [\"Pclass\", \"Sex\", \"SibSp\", \"Parch\"]\n",
    "X = pd.get_dummies(train_data[features])\n",
    "X_test = pd.get_dummies(test_data[features])\n",
    "\n",
    "model = RandomForestClassifier(n_estimators=100, max_depth=5, random_state=1)\n",
    "model.fit(X, y)\n",
    "predictions = model.predict(X_test)\n",
    "\n",
    "output = pd.DataFrame({'PassengerId': test_data.PassengerId, 'Survived': predictions})\n",
    "output.to_csv('submission.csv', index=False)\n",
    "print(\"Your submission was successfully saved!\")"
   ]
  },
  {
   "cell_type": "markdown",
   "id": "c9ddc02b",
   "metadata": {
    "papermill": {
     "duration": 0.020222,
     "end_time": "2022-05-11T10:33:15.985981",
     "exception": false,
     "start_time": "2022-05-11T10:33:15.965759",
     "status": "completed"
    },
    "tags": []
   },
   "source": [
    "**MODEL WITH SVM**"
   ]
  },
  {
   "cell_type": "code",
   "execution_count": 7,
   "id": "45994396",
   "metadata": {
    "execution": {
     "iopub.execute_input": "2022-05-11T10:33:16.029547Z",
     "iopub.status.busy": "2022-05-11T10:33:16.029048Z",
     "iopub.status.idle": "2022-05-11T10:33:16.036542Z",
     "shell.execute_reply": "2022-05-11T10:33:16.035936Z"
    },
    "papermill": {
     "duration": 0.031366,
     "end_time": "2022-05-11T10:33:16.038631",
     "exception": false,
     "start_time": "2022-05-11T10:33:16.007265",
     "status": "completed"
    },
    "tags": []
   },
   "outputs": [
    {
     "name": "stdout",
     "output_type": "stream",
     "text": [
      "Train set: (712, 5) (712,)\n",
      "Test set: (179, 5) (179,)\n"
     ]
    }
   ],
   "source": [
    "X_train, X_test, y_train, y_test = train_test_split( X, y, test_size=0.2, random_state=4)\n",
    "print ('Train set:', X_train.shape,  y_train.shape)\n",
    "print ('Test set:', X_test.shape,  y_test.shape)"
   ]
  },
  {
   "cell_type": "code",
   "execution_count": 8,
   "id": "b0f90e6f",
   "metadata": {
    "execution": {
     "iopub.execute_input": "2022-05-11T10:33:16.082185Z",
     "iopub.status.busy": "2022-05-11T10:33:16.081678Z",
     "iopub.status.idle": "2022-05-11T10:33:16.104839Z",
     "shell.execute_reply": "2022-05-11T10:33:16.103994Z"
    },
    "papermill": {
     "duration": 0.046894,
     "end_time": "2022-05-11T10:33:16.106813",
     "exception": false,
     "start_time": "2022-05-11T10:33:16.059919",
     "status": "completed"
    },
    "tags": []
   },
   "outputs": [
    {
     "data": {
      "text/plain": [
       "SVC()"
      ]
     },
     "execution_count": 8,
     "metadata": {},
     "output_type": "execute_result"
    }
   ],
   "source": [
    "from sklearn import svm\n",
    "clf = svm.SVC(kernel='rbf')\n",
    "clf.fit(X_train, y_train) "
   ]
  },
  {
   "cell_type": "code",
   "execution_count": 9,
   "id": "afe41edc",
   "metadata": {
    "execution": {
     "iopub.execute_input": "2022-05-11T10:33:16.151111Z",
     "iopub.status.busy": "2022-05-11T10:33:16.150577Z",
     "iopub.status.idle": "2022-05-11T10:33:16.160909Z",
     "shell.execute_reply": "2022-05-11T10:33:16.160311Z"
    },
    "papermill": {
     "duration": 0.03464,
     "end_time": "2022-05-11T10:33:16.162710",
     "exception": false,
     "start_time": "2022-05-11T10:33:16.128070",
     "status": "completed"
    },
    "tags": []
   },
   "outputs": [
    {
     "data": {
      "text/plain": [
       "array([0, 0, 1, 1, 0])"
      ]
     },
     "execution_count": 9,
     "metadata": {},
     "output_type": "execute_result"
    }
   ],
   "source": [
    "yhat = clf.predict(X_test)\n",
    "yhat [0:5]"
   ]
  },
  {
   "cell_type": "markdown",
   "id": "89cb8a7b",
   "metadata": {
    "papermill": {
     "duration": 0.021579,
     "end_time": "2022-05-11T10:33:16.206118",
     "exception": false,
     "start_time": "2022-05-11T10:33:16.184539",
     "status": "completed"
    },
    "tags": []
   },
   "source": [
    "**EVALUATION**"
   ]
  },
  {
   "cell_type": "code",
   "execution_count": 10,
   "id": "f8fdeb36",
   "metadata": {
    "execution": {
     "iopub.execute_input": "2022-05-11T10:33:16.250889Z",
     "iopub.status.busy": "2022-05-11T10:33:16.250363Z",
     "iopub.status.idle": "2022-05-11T10:33:16.253708Z",
     "shell.execute_reply": "2022-05-11T10:33:16.253139Z"
    },
    "papermill": {
     "duration": 0.027866,
     "end_time": "2022-05-11T10:33:16.255381",
     "exception": false,
     "start_time": "2022-05-11T10:33:16.227515",
     "status": "completed"
    },
    "tags": []
   },
   "outputs": [],
   "source": [
    "from sklearn.metrics import classification_report, confusion_matrix\n",
    "import itertools"
   ]
  },
  {
   "cell_type": "code",
   "execution_count": 11,
   "id": "fbaa5cf3",
   "metadata": {
    "execution": {
     "iopub.execute_input": "2022-05-11T10:33:16.301926Z",
     "iopub.status.busy": "2022-05-11T10:33:16.301424Z",
     "iopub.status.idle": "2022-05-11T10:33:16.311496Z",
     "shell.execute_reply": "2022-05-11T10:33:16.310837Z"
    },
    "papermill": {
     "duration": 0.035143,
     "end_time": "2022-05-11T10:33:16.313693",
     "exception": false,
     "start_time": "2022-05-11T10:33:16.278550",
     "status": "completed"
    },
    "tags": []
   },
   "outputs": [],
   "source": [
    "def plot_confusion_matrix(cm, classes,\n",
    "                          normalize=False,\n",
    "                          title='Confusion matrix',\n",
    "                          cmap=plt.cm.Blues):\n",
    "    \"\"\"\n",
    "    This function prints and plots the confusion matrix.\n",
    "    Normalization can be applied by setting `normalize=True`.\n",
    "    \"\"\"\n",
    "    if normalize:\n",
    "        cm = cm.astype('float') / cm.sum(axis=1)[:, np.newaxis]\n",
    "        print(\"Normalized confusion matrix\")\n",
    "    else:\n",
    "        print('Confusion matrix, without normalization')\n",
    "\n",
    "    print(cm)\n",
    "\n",
    "    plt.imshow(cm, interpolation='nearest', cmap=cmap)\n",
    "    plt.title(title)\n",
    "    plt.colorbar()\n",
    "    tick_marks = np.arange(len(classes))\n",
    "    plt.xticks(tick_marks, classes, rotation=45)\n",
    "    plt.yticks(tick_marks, classes)\n",
    "\n",
    "    fmt = '.2f' if normalize else 'd'\n",
    "    thresh = cm.max() / 2.\n",
    "    for i, j in itertools.product(range(cm.shape[0]), range(cm.shape[1])):\n",
    "        plt.text(j, i, format(cm[i, j], fmt),\n",
    "                 horizontalalignment=\"center\",\n",
    "                 color=\"white\" if cm[i, j] > thresh else \"black\")\n",
    "\n",
    "    plt.tight_layout()\n",
    "    plt.ylabel('True label')\n",
    "    plt.xlabel('Predicted label')"
   ]
  },
  {
   "cell_type": "code",
   "execution_count": 12,
   "id": "b7cc09c1",
   "metadata": {
    "execution": {
     "iopub.execute_input": "2022-05-11T10:33:16.359158Z",
     "iopub.status.busy": "2022-05-11T10:33:16.358633Z",
     "iopub.status.idle": "2022-05-11T10:33:16.369927Z",
     "shell.execute_reply": "2022-05-11T10:33:16.369235Z"
    },
    "papermill": {
     "duration": 0.035977,
     "end_time": "2022-05-11T10:33:16.371917",
     "exception": false,
     "start_time": "2022-05-11T10:33:16.335940",
     "status": "completed"
    },
    "tags": []
   },
   "outputs": [
    {
     "name": "stdout",
     "output_type": "stream",
     "text": [
      "              precision    recall  f1-score   support\n",
      "\n",
      "           0       0.83      0.92      0.88       119\n",
      "           1       0.81      0.63      0.71        60\n",
      "\n",
      "    accuracy                           0.83       179\n",
      "   macro avg       0.82      0.78      0.79       179\n",
      "weighted avg       0.83      0.83      0.82       179\n",
      "\n"
     ]
    }
   ],
   "source": [
    "# Compute confusion matrix\n",
    "cnf_matrix = confusion_matrix(y_test, yhat, labels=[0,1])\n",
    "np.set_printoptions(precision=2)\n",
    "\n",
    "print (classification_report(y_test, yhat))"
   ]
  },
  {
   "cell_type": "code",
   "execution_count": 13,
   "id": "387bc222",
   "metadata": {
    "execution": {
     "iopub.execute_input": "2022-05-11T10:33:16.419473Z",
     "iopub.status.busy": "2022-05-11T10:33:16.418943Z",
     "iopub.status.idle": "2022-05-11T10:33:16.702753Z",
     "shell.execute_reply": "2022-05-11T10:33:16.701940Z"
    },
    "papermill": {
     "duration": 0.30994,
     "end_time": "2022-05-11T10:33:16.705197",
     "exception": false,
     "start_time": "2022-05-11T10:33:16.395257",
     "status": "completed"
    },
    "tags": []
   },
   "outputs": [
    {
     "name": "stdout",
     "output_type": "stream",
     "text": [
      "Confusion matrix, without normalization\n",
      "[[110   9]\n",
      " [ 22  38]]\n"
     ]
    },
    {
     "data": {
      "image/png": "[encoded data removed]",
      "text/plain": [
       "<Figure size 432x288 with 2 Axes>"
      ]
     },
     "metadata": {
      "needs_background": "light"
     },
     "output_type": "display_data"
    }
   ],
   "source": [
    "# Plot non-normalized confusion matrix\n",
    "plt.figure()\n",
    "plot_confusion_matrix(cnf_matrix, classes=['Died(0)','Survived(1)'],normalize= False,  title='Confusion matrix')"
   ]
  },
  {
   "cell_type": "code",
   "execution_count": 14,
   "id": "4e93d7b4",
   "metadata": {
    "execution": {
     "iopub.execute_input": "2022-05-11T10:33:16.754372Z",
     "iopub.status.busy": "2022-05-11T10:33:16.753594Z",
     "iopub.status.idle": "2022-05-11T10:33:16.761241Z",
     "shell.execute_reply": "2022-05-11T10:33:16.759936Z"
    },
    "papermill": {
     "duration": 0.036083,
     "end_time": "2022-05-11T10:33:16.764792",
     "exception": false,
     "start_time": "2022-05-11T10:33:16.728709",
     "status": "completed"
    },
    "tags": []
   },
   "outputs": [
    {
     "name": "stdout",
     "output_type": "stream",
     "text": [
      "its done man\n"
     ]
    }
   ],
   "source": [
    "output = pd.DataFrame(cnf_matrix).to_csv(\"cnf_matrix.csv\")\n",
    "print(\"its done man\")"
   ]
  },
  {
   "cell_type": "code",
   "execution_count": null,
   "id": "41ebfc20",
   "metadata": {
    "papermill": {
     "duration": 0.025436,
     "end_time": "2022-05-11T10:33:16.814993",
     "exception": false,
     "start_time": "2022-05-11T10:33:16.789557",
     "status": "completed"
    },
    "tags": []
   },
   "outputs": [],
   "source": []
  }
 ],
 "metadata": {
  "kernelspec": {
   "display_name": "Python 3",
   "language": "python",
   "name": "python3"
  },
  "language_info": {
   "codemirror_mode": {
    "name": "ipython",
    "version": 3
   },
   "file_extension": ".py",
   "mimetype": "text/x-python",
   "name": "python",
   "nbconvert_exporter": "python",
   "pygments_lexer": "ipython3",
   "version": "3.7.12"
  },
  "papermill": {
   "default_parameters": {},
   "duration": 13.518032,
   "end_time": "2022-05-11T10:33:17.559515",
   "environment_variables": {},
   "exception": null,
   "input_path": "__notebook__.ipynb",
   "output_path": "__notebook__.ipynb",
   "parameters": {},
   "start_time": "2022-05-11T10:33:04.041483",
   "version": "2.3.4"
  }
 },
 "nbformat": 4,
 "nbformat_minor": 5
}
